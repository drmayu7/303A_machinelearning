{
  "cells": [
    {
      "cell_type": "code",
      "execution_count": 3,
      "metadata": {
        "colab": {
          "base_uri": "https://localhost:8080/"
        },
        "id": "MBy6SdHWJsAs",
        "outputId": "6712319f-faf1-4a99-a1b2-54821ac06d6d"
      },
      "outputs": [
        {
          "output_type": "stream",
          "name": "stdout",
          "text": [
            "Mounted at /content/drive\n"
          ]
        }
      ],
      "source": [
        "from google.colab import drive\n",
        "drive.mount('/content/drive')"
      ]
    },
    {
      "cell_type": "code",
      "execution_count": 8,
      "metadata": {
        "id": "8rL8v5zbKHgD"
      },
      "outputs": [],
      "source": [
        "# load dataset\n",
        "folder = '/content/drive/My Drive/Colab Notebooks/HIA303 Health Data Analytics/'"
      ]
    },
    {
      "cell_type": "code",
      "source": [
        "# This is to show there is 16 missing values represented by (?) in the Bare_Nuclei Column - min =0\n",
        "import pandas as pd\n",
        "headers = [\"code_number\",\"Clump_Thickness\",\"Cell_Size_Uniformity\",\"Cell_Shape_Uniformity\",\"Marginal_Adhesion\",\"Epithelial_Cell_Size\",\"Bare_Nuclei\",\"Chromatin\",\"Normal_Nucleoli\",\"Mitoses\",\"Class\"]\n",
        "data = pd.read_csv('/content/drive/My Drive/Colab Notebooks/HIA303 Health Data Analytics/breast-cancer-wisconsin.data.csv',    \n",
        "         header=None, index_col=['code_number'], na_values='?', names = headers) \n",
        "data = data.reset_index(drop=True)\n",
        "data = data.fillna(0)\n",
        "data.describe()"
      ],
      "metadata": {
        "colab": {
          "base_uri": "https://localhost:8080/",
          "height": 300
        },
        "id": "REapFTCt7Ttu",
        "outputId": "84c890e0-305a-439f-e6af-d994442811aa"
      },
      "execution_count": 11,
      "outputs": [
        {
          "output_type": "execute_result",
          "data": {
            "text/plain": [
              "       Clump_Thickness  Cell_Size_Uniformity  Cell_Shape_Uniformity  \\\n",
              "count       699.000000            699.000000             699.000000   \n",
              "mean          4.417740              3.134478               3.207582   \n",
              "std           2.815741              3.051459               2.971809   \n",
              "min           1.000000              1.000000               1.000000   \n",
              "25%           2.000000              1.000000               1.000000   \n",
              "50%           4.000000              1.000000               1.000000   \n",
              "75%           6.000000              5.000000               5.000000   \n",
              "max          10.000000             10.000000              10.000000   \n",
              "\n",
              "       Marginal_Adhesion  Epithelial_Cell_Size  Bare_Nuclei   Chromatin  \\\n",
              "count         699.000000            699.000000   699.000000  699.000000   \n",
              "mean            2.807153              3.216023     3.463948    3.437768   \n",
              "std             2.855208              2.214300     3.640435    2.438364   \n",
              "min             1.000000              1.000000     0.000000    1.000000   \n",
              "25%             1.000000              2.000000     1.000000    2.000000   \n",
              "50%             1.000000              2.000000     1.000000    3.000000   \n",
              "75%             4.000000              4.000000     5.000000    5.000000   \n",
              "max            10.000000             10.000000    10.000000   10.000000   \n",
              "\n",
              "       Normal_Nucleoli     Mitoses       Class  \n",
              "count       699.000000  699.000000  699.000000  \n",
              "mean          2.867525    1.590129    2.689700  \n",
              "std           3.053321    1.714936    0.951176  \n",
              "min           1.000000    1.000000    2.000000  \n",
              "25%           1.000000    1.000000    2.000000  \n",
              "50%           1.000000    1.000000    2.000000  \n",
              "75%           4.000000    1.000000    4.000000  \n",
              "max          10.000000   10.000000    4.000000  "
            ],
            "text/html": [
              "\n",
              "  <div id=\"df-4bb7d0fd-07e4-407a-9773-013fe0ecacb3\">\n",
              "    <div class=\"colab-df-container\">\n",
              "      <div>\n",
              "<style scoped>\n",
              "    .dataframe tbody tr th:only-of-type {\n",
              "        vertical-align: middle;\n",
              "    }\n",
              "\n",
              "    .dataframe tbody tr th {\n",
              "        vertical-align: top;\n",
              "    }\n",
              "\n",
              "    .dataframe thead th {\n",
              "        text-align: right;\n",
              "    }\n",
              "</style>\n",
              "<table border=\"1\" class=\"dataframe\">\n",
              "  <thead>\n",
              "    <tr style=\"text-align: right;\">\n",
              "      <th></th>\n",
              "      <th>Clump_Thickness</th>\n",
              "      <th>Cell_Size_Uniformity</th>\n",
              "      <th>Cell_Shape_Uniformity</th>\n",
              "      <th>Marginal_Adhesion</th>\n",
              "      <th>Epithelial_Cell_Size</th>\n",
              "      <th>Bare_Nuclei</th>\n",
              "      <th>Chromatin</th>\n",
              "      <th>Normal_Nucleoli</th>\n",
              "      <th>Mitoses</th>\n",
              "      <th>Class</th>\n",
              "    </tr>\n",
              "  </thead>\n",
              "  <tbody>\n",
              "    <tr>\n",
              "      <th>count</th>\n",
              "      <td>699.000000</td>\n",
              "      <td>699.000000</td>\n",
              "      <td>699.000000</td>\n",
              "      <td>699.000000</td>\n",
              "      <td>699.000000</td>\n",
              "      <td>699.000000</td>\n",
              "      <td>699.000000</td>\n",
              "      <td>699.000000</td>\n",
              "      <td>699.000000</td>\n",
              "      <td>699.000000</td>\n",
              "    </tr>\n",
              "    <tr>\n",
              "      <th>mean</th>\n",
              "      <td>4.417740</td>\n",
              "      <td>3.134478</td>\n",
              "      <td>3.207582</td>\n",
              "      <td>2.807153</td>\n",
              "      <td>3.216023</td>\n",
              "      <td>3.463948</td>\n",
              "      <td>3.437768</td>\n",
              "      <td>2.867525</td>\n",
              "      <td>1.590129</td>\n",
              "      <td>2.689700</td>\n",
              "    </tr>\n",
              "    <tr>\n",
              "      <th>std</th>\n",
              "      <td>2.815741</td>\n",
              "      <td>3.051459</td>\n",
              "      <td>2.971809</td>\n",
              "      <td>2.855208</td>\n",
              "      <td>2.214300</td>\n",
              "      <td>3.640435</td>\n",
              "      <td>2.438364</td>\n",
              "      <td>3.053321</td>\n",
              "      <td>1.714936</td>\n",
              "      <td>0.951176</td>\n",
              "    </tr>\n",
              "    <tr>\n",
              "      <th>min</th>\n",
              "      <td>1.000000</td>\n",
              "      <td>1.000000</td>\n",
              "      <td>1.000000</td>\n",
              "      <td>1.000000</td>\n",
              "      <td>1.000000</td>\n",
              "      <td>0.000000</td>\n",
              "      <td>1.000000</td>\n",
              "      <td>1.000000</td>\n",
              "      <td>1.000000</td>\n",
              "      <td>2.000000</td>\n",
              "    </tr>\n",
              "    <tr>\n",
              "      <th>25%</th>\n",
              "      <td>2.000000</td>\n",
              "      <td>1.000000</td>\n",
              "      <td>1.000000</td>\n",
              "      <td>1.000000</td>\n",
              "      <td>2.000000</td>\n",
              "      <td>1.000000</td>\n",
              "      <td>2.000000</td>\n",
              "      <td>1.000000</td>\n",
              "      <td>1.000000</td>\n",
              "      <td>2.000000</td>\n",
              "    </tr>\n",
              "    <tr>\n",
              "      <th>50%</th>\n",
              "      <td>4.000000</td>\n",
              "      <td>1.000000</td>\n",
              "      <td>1.000000</td>\n",
              "      <td>1.000000</td>\n",
              "      <td>2.000000</td>\n",
              "      <td>1.000000</td>\n",
              "      <td>3.000000</td>\n",
              "      <td>1.000000</td>\n",
              "      <td>1.000000</td>\n",
              "      <td>2.000000</td>\n",
              "    </tr>\n",
              "    <tr>\n",
              "      <th>75%</th>\n",
              "      <td>6.000000</td>\n",
              "      <td>5.000000</td>\n",
              "      <td>5.000000</td>\n",
              "      <td>4.000000</td>\n",
              "      <td>4.000000</td>\n",
              "      <td>5.000000</td>\n",
              "      <td>5.000000</td>\n",
              "      <td>4.000000</td>\n",
              "      <td>1.000000</td>\n",
              "      <td>4.000000</td>\n",
              "    </tr>\n",
              "    <tr>\n",
              "      <th>max</th>\n",
              "      <td>10.000000</td>\n",
              "      <td>10.000000</td>\n",
              "      <td>10.000000</td>\n",
              "      <td>10.000000</td>\n",
              "      <td>10.000000</td>\n",
              "      <td>10.000000</td>\n",
              "      <td>10.000000</td>\n",
              "      <td>10.000000</td>\n",
              "      <td>10.000000</td>\n",
              "      <td>4.000000</td>\n",
              "    </tr>\n",
              "  </tbody>\n",
              "</table>\n",
              "</div>\n",
              "      <button class=\"colab-df-convert\" onclick=\"convertToInteractive('df-4bb7d0fd-07e4-407a-9773-013fe0ecacb3')\"\n",
              "              title=\"Convert this dataframe to an interactive table.\"\n",
              "              style=\"display:none;\">\n",
              "        \n",
              "  <svg xmlns=\"http://www.w3.org/2000/svg\" height=\"24px\"viewBox=\"0 0 24 24\"\n",
              "       width=\"24px\">\n",
              "    <path d=\"M0 0h24v24H0V0z\" fill=\"none\"/>\n",
              "    <path d=\"M18.56 5.44l.94 2.06.94-2.06 2.06-.94-2.06-.94-.94-2.06-.94 2.06-2.06.94zm-11 1L8.5 8.5l.94-2.06 2.06-.94-2.06-.94L8.5 2.5l-.94 2.06-2.06.94zm10 10l.94 2.06.94-2.06 2.06-.94-2.06-.94-.94-2.06-.94 2.06-2.06.94z\"/><path d=\"M17.41 7.96l-1.37-1.37c-.4-.4-.92-.59-1.43-.59-.52 0-1.04.2-1.43.59L10.3 9.45l-7.72 7.72c-.78.78-.78 2.05 0 2.83L4 21.41c.39.39.9.59 1.41.59.51 0 1.02-.2 1.41-.59l7.78-7.78 2.81-2.81c.8-.78.8-2.07 0-2.86zM5.41 20L4 18.59l7.72-7.72 1.47 1.35L5.41 20z\"/>\n",
              "  </svg>\n",
              "      </button>\n",
              "      \n",
              "  <style>\n",
              "    .colab-df-container {\n",
              "      display:flex;\n",
              "      flex-wrap:wrap;\n",
              "      gap: 12px;\n",
              "    }\n",
              "\n",
              "    .colab-df-convert {\n",
              "      background-color: #E8F0FE;\n",
              "      border: none;\n",
              "      border-radius: 50%;\n",
              "      cursor: pointer;\n",
              "      display: none;\n",
              "      fill: #1967D2;\n",
              "      height: 32px;\n",
              "      padding: 0 0 0 0;\n",
              "      width: 32px;\n",
              "    }\n",
              "\n",
              "    .colab-df-convert:hover {\n",
              "      background-color: #E2EBFA;\n",
              "      box-shadow: 0px 1px 2px rgba(60, 64, 67, 0.3), 0px 1px 3px 1px rgba(60, 64, 67, 0.15);\n",
              "      fill: #174EA6;\n",
              "    }\n",
              "\n",
              "    [theme=dark] .colab-df-convert {\n",
              "      background-color: #3B4455;\n",
              "      fill: #D2E3FC;\n",
              "    }\n",
              "\n",
              "    [theme=dark] .colab-df-convert:hover {\n",
              "      background-color: #434B5C;\n",
              "      box-shadow: 0px 1px 3px 1px rgba(0, 0, 0, 0.15);\n",
              "      filter: drop-shadow(0px 1px 2px rgba(0, 0, 0, 0.3));\n",
              "      fill: #FFFFFF;\n",
              "    }\n",
              "  </style>\n",
              "\n",
              "      <script>\n",
              "        const buttonEl =\n",
              "          document.querySelector('#df-4bb7d0fd-07e4-407a-9773-013fe0ecacb3 button.colab-df-convert');\n",
              "        buttonEl.style.display =\n",
              "          google.colab.kernel.accessAllowed ? 'block' : 'none';\n",
              "\n",
              "        async function convertToInteractive(key) {\n",
              "          const element = document.querySelector('#df-4bb7d0fd-07e4-407a-9773-013fe0ecacb3');\n",
              "          const dataTable =\n",
              "            await google.colab.kernel.invokeFunction('convertToInteractive',\n",
              "                                                     [key], {});\n",
              "          if (!dataTable) return;\n",
              "\n",
              "          const docLinkHtml = 'Like what you see? Visit the ' +\n",
              "            '<a target=\"_blank\" href=https://colab.research.google.com/notebooks/data_table.ipynb>data table notebook</a>'\n",
              "            + ' to learn more about interactive tables.';\n",
              "          element.innerHTML = '';\n",
              "          dataTable['output_type'] = 'display_data';\n",
              "          await google.colab.output.renderOutput(dataTable, element);\n",
              "          const docLink = document.createElement('div');\n",
              "          docLink.innerHTML = docLinkHtml;\n",
              "          element.appendChild(docLink);\n",
              "        }\n",
              "      </script>\n",
              "    </div>\n",
              "  </div>\n",
              "  "
            ]
          },
          "metadata": {},
          "execution_count": 11
        }
      ]
    },
    {
      "cell_type": "code",
      "source": [
        "# Data Skewness\n",
        "import seaborn as sns\n",
        "data_mean = data.describe().loc['mean']\n",
        "data_mean.plot(kind='bar', figsize=(14,6))"
      ],
      "metadata": {
        "colab": {
          "base_uri": "https://localhost:8080/",
          "height": 494
        },
        "id": "ohb82nTvBcJo",
        "outputId": "dbadf45b-d646-401a-9865-b8916ce8184c"
      },
      "execution_count": 12,
      "outputs": [
        {
          "output_type": "execute_result",
          "data": {
            "text/plain": [
              "<matplotlib.axes._subplots.AxesSubplot at 0x7f3d37e033d0>"
            ]
          },
          "metadata": {},
          "execution_count": 12
        },
        {
          "output_type": "display_data",
          "data": {
            "text/plain": [
              "<Figure size 1008x432 with 1 Axes>"
            ],
            "image/png": "[encoded data removed]"
          },
          "metadata": {
            "needs_background": "light"
          }
        }
      ]
    },
    {
      "cell_type": "code",
      "source": [
        "# unbalanced dataset issue\n",
        "data_B = data[data['Class'] == 2]\n",
        "data_M = data[data['Class'] == 4]\n",
        "B_M_data = {'B': [data_B.shape[0]], 'M': [data_M.shape[0]]}\n",
        "B_M_df = pd.DataFrame(data=B_M_data)\n",
        "B_M_df.plot(kind='bar', figsize=(10,4))"
      ],
      "metadata": {
        "colab": {
          "base_uri": "https://localhost:8080/",
          "height": 280
        },
        "id": "a6yGs_XlB0kn",
        "outputId": "242af374-7b1d-4e65-8def-1f6b96ae09ad"
      },
      "execution_count": 13,
      "outputs": [
        {
          "output_type": "execute_result",
          "data": {
            "text/plain": [
              "<matplotlib.axes._subplots.AxesSubplot at 0x7f3d37d69b20>"
            ]
          },
          "metadata": {},
          "execution_count": 13
        },
        {
          "output_type": "display_data",
          "data": {
            "text/plain": [
              "<Figure size 720x288 with 1 Axes>"
            ],
            "image/png": "[encoded data removed]"
          },
          "metadata": {
            "needs_background": "light"
          }
        }
      ]
    },
    {
      "cell_type": "code",
      "execution_count": 15,
      "metadata": {
        "colab": {
          "base_uri": "https://localhost:8080/",
          "height": 423
        },
        "id": "Gj83bA43JRGC",
        "outputId": "011557cd-d64e-4682-b779-53f8082be147"
      },
      "outputs": [
        {
          "output_type": "execute_result",
          "data": {
            "text/plain": [
              "     sample_id  cl_thcknss  size_cell_un  shape_cell_un  marg_adhesion  \\\n",
              "0      1000025         5.0           1.0            1.0            1.0   \n",
              "1      1002945         5.0           4.0            4.0            5.0   \n",
              "2      1015425         3.0           1.0            1.0            1.0   \n",
              "3      1016277         6.0           8.0            8.0            1.0   \n",
              "4      1017023         4.0           1.0            1.0            3.0   \n",
              "..         ...         ...           ...            ...            ...   \n",
              "694     776715         3.0           1.0            1.0            1.0   \n",
              "695     841769         2.0           1.0            1.0            1.0   \n",
              "696     888820         5.0          10.0           10.0            3.0   \n",
              "697     897471         4.0           8.0            6.0            4.0   \n",
              "698     897471         4.0           8.0            8.0            5.0   \n",
              "\n",
              "     size_cell_single  bare_nucl  bl_chrmatn  nrml_nucleo  mitoses  class  \n",
              "0                 2.0        1.0         3.0          1.0      1.0      2  \n",
              "1                 7.0       10.0         3.0          2.0      1.0      2  \n",
              "2                 2.0        2.0         3.0          1.0      1.0      2  \n",
              "3                 3.0        4.0         3.0          7.0      1.0      2  \n",
              "4                 2.0        1.0         3.0          1.0      1.0      2  \n",
              "..                ...        ...         ...          ...      ...    ...  \n",
              "694               3.0        2.0         1.0          1.0      1.0      2  \n",
              "695               2.0        1.0         1.0          1.0      1.0      2  \n",
              "696               7.0        3.0         8.0         10.0      2.0      4  \n",
              "697               3.0        4.0        10.0          6.0      1.0      4  \n",
              "698               4.0        5.0        10.0          4.0      1.0      4  \n",
              "\n",
              "[699 rows x 11 columns]"
            ],
            "text/html": [
              "\n",
              "  <div id=\"df-b4cfaeb5-4fa1-4027-ae3b-9bd870ac48a4\">\n",
              "    <div class=\"colab-df-container\">\n",
              "      <div>\n",
              "<style scoped>\n",
              "    .dataframe tbody tr th:only-of-type {\n",
              "        vertical-align: middle;\n",
              "    }\n",
              "\n",
              "    .dataframe tbody tr th {\n",
              "        vertical-align: top;\n",
              "    }\n",
              "\n",
              "    .dataframe thead th {\n",
              "        text-align: right;\n",
              "    }\n",
              "</style>\n",
              "<table border=\"1\" class=\"dataframe\">\n",
              "  <thead>\n",
              "    <tr style=\"text-align: right;\">\n",
              "      <th></th>\n",
              "      <th>sample_id</th>\n",
              "      <th>cl_thcknss</th>\n",
              "      <th>size_cell_un</th>\n",
              "      <th>shape_cell_un</th>\n",
              "      <th>marg_adhesion</th>\n",
              "      <th>size_cell_single</th>\n",
              "      <th>bare_nucl</th>\n",
              "      <th>bl_chrmatn</th>\n",
              "      <th>nrml_nucleo</th>\n",
              "      <th>mitoses</th>\n",
              "      <th>class</th>\n",
              "    </tr>\n",
              "  </thead>\n",
              "  <tbody>\n",
              "    <tr>\n",
              "      <th>0</th>\n",
              "      <td>1000025</td>\n",
              "      <td>5.0</td>\n",
              "      <td>1.0</td>\n",
              "      <td>1.0</td>\n",
              "      <td>1.0</td>\n",
              "      <td>2.0</td>\n",
              "      <td>1.0</td>\n",
              "      <td>3.0</td>\n",
              "      <td>1.0</td>\n",
              "      <td>1.0</td>\n",
              "      <td>2</td>\n",
              "    </tr>\n",
              "    <tr>\n",
              "      <th>1</th>\n",
              "      <td>1002945</td>\n",
              "      <td>5.0</td>\n",
              "      <td>4.0</td>\n",
              "      <td>4.0</td>\n",
              "      <td>5.0</td>\n",
              "      <td>7.0</td>\n",
              "      <td>10.0</td>\n",
              "      <td>3.0</td>\n",
              "      <td>2.0</td>\n",
              "      <td>1.0</td>\n",
              "      <td>2</td>\n",
              "    </tr>\n",
              "    <tr>\n",
              "      <th>2</th>\n",
              "      <td>1015425</td>\n",
              "      <td>3.0</td>\n",
              "      <td>1.0</td>\n",
              "      <td>1.0</td>\n",
              "      <td>1.0</td>\n",
              "      <td>2.0</td>\n",
              "      <td>2.0</td>\n",
              "      <td>3.0</td>\n",
              "      <td>1.0</td>\n",
              "      <td>1.0</td>\n",
              "      <td>2</td>\n",
              "    </tr>\n",
              "    <tr>\n",
              "      <th>3</th>\n",
              "      <td>1016277</td>\n",
              "      <td>6.0</td>\n",
              "      <td>8.0</td>\n",
              "      <td>8.0</td>\n",
              "      <td>1.0</td>\n",
              "      <td>3.0</td>\n",
              "      <td>4.0</td>\n",
              "      <td>3.0</td>\n",
              "      <td>7.0</td>\n",
              "      <td>1.0</td>\n",
              "      <td>2</td>\n",
              "    </tr>\n",
              "    <tr>\n",
              "      <th>4</th>\n",
              "      <td>1017023</td>\n",
              "      <td>4.0</td>\n",
              "      <td>1.0</td>\n",
              "      <td>1.0</td>\n",
              "      <td>3.0</td>\n",
              "      <td>2.0</td>\n",
              "      <td>1.0</td>\n",
              "      <td>3.0</td>\n",
              "      <td>1.0</td>\n",
              "      <td>1.0</td>\n",
              "      <td>2</td>\n",
              "    </tr>\n",
              "    <tr>\n",
              "      <th>...</th>\n",
              "      <td>...</td>\n",
              "      <td>...</td>\n",
              "      <td>...</td>\n",
              "      <td>...</td>\n",
              "      <td>...</td>\n",
              "      <td>...</td>\n",
              "      <td>...</td>\n",
              "      <td>...</td>\n",
              "      <td>...</td>\n",
              "      <td>...</td>\n",
              "      <td>...</td>\n",
              "    </tr>\n",
              "    <tr>\n",
              "      <th>694</th>\n",
              "      <td>776715</td>\n",
              "      <td>3.0</td>\n",
              "      <td>1.0</td>\n",
              "      <td>1.0</td>\n",
              "      <td>1.0</td>\n",
              "      <td>3.0</td>\n",
              "      <td>2.0</td>\n",
              "      <td>1.0</td>\n",
              "      <td>1.0</td>\n",
              "      <td>1.0</td>\n",
              "      <td>2</td>\n",
              "    </tr>\n",
              "    <tr>\n",
              "      <th>695</th>\n",
              "      <td>841769</td>\n",
              "      <td>2.0</td>\n",
              "      <td>1.0</td>\n",
              "      <td>1.0</td>\n",
              "      <td>1.0</td>\n",
              "      <td>2.0</td>\n",
              "      <td>1.0</td>\n",
              "      <td>1.0</td>\n",
              "      <td>1.0</td>\n",
              "      <td>1.0</td>\n",
              "      <td>2</td>\n",
              "    </tr>\n",
              "    <tr>\n",
              "      <th>696</th>\n",
              "      <td>888820</td>\n",
              "      <td>5.0</td>\n",
              "      <td>10.0</td>\n",
              "      <td>10.0</td>\n",
              "      <td>3.0</td>\n",
              "      <td>7.0</td>\n",
              "      <td>3.0</td>\n",
              "      <td>8.0</td>\n",
              "      <td>10.0</td>\n",
              "      <td>2.0</td>\n",
              "      <td>4</td>\n",
              "    </tr>\n",
              "    <tr>\n",
              "      <th>697</th>\n",
              "      <td>897471</td>\n",
              "      <td>4.0</td>\n",
              "      <td>8.0</td>\n",
              "      <td>6.0</td>\n",
              "      <td>4.0</td>\n",
              "      <td>3.0</td>\n",
              "      <td>4.0</td>\n",
              "      <td>10.0</td>\n",
              "      <td>6.0</td>\n",
              "      <td>1.0</td>\n",
              "      <td>4</td>\n",
              "    </tr>\n",
              "    <tr>\n",
              "      <th>698</th>\n",
              "      <td>897471</td>\n",
              "      <td>4.0</td>\n",
              "      <td>8.0</td>\n",
              "      <td>8.0</td>\n",
              "      <td>5.0</td>\n",
              "      <td>4.0</td>\n",
              "      <td>5.0</td>\n",
              "      <td>10.0</td>\n",
              "      <td>4.0</td>\n",
              "      <td>1.0</td>\n",
              "      <td>4</td>\n",
              "    </tr>\n",
              "  </tbody>\n",
              "</table>\n",
              "<p>699 rows × 11 columns</p>\n",
              "</div>\n",
              "      <button class=\"colab-df-convert\" onclick=\"convertToInteractive('df-b4cfaeb5-4fa1-4027-ae3b-9bd870ac48a4')\"\n",
              "              title=\"Convert this dataframe to an interactive table.\"\n",
              "              style=\"display:none;\">\n",
              "        \n",
              "  <svg xmlns=\"http://www.w3.org/2000/svg\" height=\"24px\"viewBox=\"0 0 24 24\"\n",
              "       width=\"24px\">\n",
              "    <path d=\"M0 0h24v24H0V0z\" fill=\"none\"/>\n",
              "    <path d=\"M18.56 5.44l.94 2.06.94-2.06 2.06-.94-2.06-.94-.94-2.06-.94 2.06-2.06.94zm-11 1L8.5 8.5l.94-2.06 2.06-.94-2.06-.94L8.5 2.5l-.94 2.06-2.06.94zm10 10l.94 2.06.94-2.06 2.06-.94-2.06-.94-.94-2.06-.94 2.06-2.06.94z\"/><path d=\"M17.41 7.96l-1.37-1.37c-.4-.4-.92-.59-1.43-.59-.52 0-1.04.2-1.43.59L10.3 9.45l-7.72 7.72c-.78.78-.78 2.05 0 2.83L4 21.41c.39.39.9.59 1.41.59.51 0 1.02-.2 1.41-.59l7.78-7.78 2.81-2.81c.8-.78.8-2.07 0-2.86zM5.41 20L4 18.59l7.72-7.72 1.47 1.35L5.41 20z\"/>\n",
              "  </svg>\n",
              "      </button>\n",
              "      \n",
              "  <style>\n",
              "    .colab-df-container {\n",
              "      display:flex;\n",
              "      flex-wrap:wrap;\n",
              "      gap: 12px;\n",
              "    }\n",
              "\n",
              "    .colab-df-convert {\n",
              "      background-color: #E8F0FE;\n",
              "      border: none;\n",
              "      border-radius: 50%;\n",
              "      cursor: pointer;\n",
              "      display: none;\n",
              "      fill: #1967D2;\n",
              "      height: 32px;\n",
              "      padding: 0 0 0 0;\n",
              "      width: 32px;\n",
              "    }\n",
              "\n",
              "    .colab-df-convert:hover {\n",
              "      background-color: #E2EBFA;\n",
              "      box-shadow: 0px 1px 2px rgba(60, 64, 67, 0.3), 0px 1px 3px 1px rgba(60, 64, 67, 0.15);\n",
              "      fill: #174EA6;\n",
              "    }\n",
              "\n",
              "    [theme=dark] .colab-df-convert {\n",
              "      background-color: #3B4455;\n",
              "      fill: #D2E3FC;\n",
              "    }\n",
              "\n",
              "    [theme=dark] .colab-df-convert:hover {\n",
              "      background-color: #434B5C;\n",
              "      box-shadow: 0px 1px 3px 1px rgba(0, 0, 0, 0.15);\n",
              "      filter: drop-shadow(0px 1px 2px rgba(0, 0, 0, 0.3));\n",
              "      fill: #FFFFFF;\n",
              "    }\n",
              "  </style>\n",
              "\n",
              "      <script>\n",
              "        const buttonEl =\n",
              "          document.querySelector('#df-b4cfaeb5-4fa1-4027-ae3b-9bd870ac48a4 button.colab-df-convert');\n",
              "        buttonEl.style.display =\n",
              "          google.colab.kernel.accessAllowed ? 'block' : 'none';\n",
              "\n",
              "        async function convertToInteractive(key) {\n",
              "          const element = document.querySelector('#df-b4cfaeb5-4fa1-4027-ae3b-9bd870ac48a4');\n",
              "          const dataTable =\n",
              "            await google.colab.kernel.invokeFunction('convertToInteractive',\n",
              "                                                     [key], {});\n",
              "          if (!dataTable) return;\n",
              "\n",
              "          const docLinkHtml = 'Like what you see? Visit the ' +\n",
              "            '<a target=\"_blank\" href=https://colab.research.google.com/notebooks/data_table.ipynb>data table notebook</a>'\n",
              "            + ' to learn more about interactive tables.';\n",
              "          element.innerHTML = '';\n",
              "          dataTable['output_type'] = 'display_data';\n",
              "          await google.colab.output.renderOutput(dataTable, element);\n",
              "          const docLink = document.createElement('div');\n",
              "          docLink.innerHTML = docLinkHtml;\n",
              "          element.appendChild(docLink);\n",
              "        }\n",
              "      </script>\n",
              "    </div>\n",
              "  </div>\n",
              "  "
            ]
          },
          "metadata": {},
          "execution_count": 15
        }
      ],
      "source": [
        "# after cleaning the data\n",
        "import pandas as pd\n",
        "data= pd.read_csv('/content/drive/My Drive/Colab Notebooks/HIA303 Health Data Analytics/breast-cancer-wisconsin-imputed.csv')\n",
        "data"
      ]
    },
    {
      "cell_type": "code",
      "source": [
        "data.info()"
      ],
      "metadata": {
        "colab": {
          "base_uri": "https://localhost:8080/"
        },
        "id": "ajyo38BPqLwh",
        "outputId": "3dba4dd4-ef7c-4818-9cfa-2c9114703a9b"
      },
      "execution_count": 16,
      "outputs": [
        {
          "output_type": "stream",
          "name": "stdout",
          "text": [
            "<class 'pandas.core.frame.DataFrame'>\n",
            "RangeIndex: 699 entries, 0 to 698\n",
            "Data columns (total 11 columns):\n",
            " #   Column            Non-Null Count  Dtype  \n",
            "---  ------            --------------  -----  \n",
            " 0   sample_id         699 non-null    int64  \n",
            " 1   cl_thcknss        699 non-null    float64\n",
            " 2   size_cell_un      699 non-null    float64\n",
            " 3   shape_cell_un     699 non-null    float64\n",
            " 4   marg_adhesion     699 non-null    float64\n",
            " 5   size_cell_single  699 non-null    float64\n",
            " 6   bare_nucl         699 non-null    float64\n",
            " 7   bl_chrmatn        699 non-null    float64\n",
            " 8   nrml_nucleo       699 non-null    float64\n",
            " 9   mitoses           699 non-null    float64\n",
            " 10  class             699 non-null    int64  \n",
            "dtypes: float64(9), int64(2)\n",
            "memory usage: 60.2 KB\n"
          ]
        }
      ]
    },
    {
      "cell_type": "code",
      "source": [
        "data.describe"
      ],
      "metadata": {
        "colab": {
          "base_uri": "https://localhost:8080/"
        },
        "id": "Hgn_F4_i6Psm",
        "outputId": "6df0b0ee-daca-4889-9e76-9421a198acd7"
      },
      "execution_count": 17,
      "outputs": [
        {
          "output_type": "execute_result",
          "data": {
            "text/plain": [
              "<bound method NDFrame.describe of      sample_id  cl_thcknss  size_cell_un  shape_cell_un  marg_adhesion  \\\n",
              "0      1000025         5.0           1.0            1.0            1.0   \n",
              "1      1002945         5.0           4.0            4.0            5.0   \n",
              "2      1015425         3.0           1.0            1.0            1.0   \n",
              "3      1016277         6.0           8.0            8.0            1.0   \n",
              "4      1017023         4.0           1.0            1.0            3.0   \n",
              "..         ...         ...           ...            ...            ...   \n",
              "694     776715         3.0           1.0            1.0            1.0   \n",
              "695     841769         2.0           1.0            1.0            1.0   \n",
              "696     888820         5.0          10.0           10.0            3.0   \n",
              "697     897471         4.0           8.0            6.0            4.0   \n",
              "698     897471         4.0           8.0            8.0            5.0   \n",
              "\n",
              "     size_cell_single  bare_nucl  bl_chrmatn  nrml_nucleo  mitoses  class  \n",
              "0                 2.0        1.0         3.0          1.0      1.0      2  \n",
              "1                 7.0       10.0         3.0          2.0      1.0      2  \n",
              "2                 2.0        2.0         3.0          1.0      1.0      2  \n",
              "3                 3.0        4.0         3.0          7.0      1.0      2  \n",
              "4                 2.0        1.0         3.0          1.0      1.0      2  \n",
              "..                ...        ...         ...          ...      ...    ...  \n",
              "694               3.0        2.0         1.0          1.0      1.0      2  \n",
              "695               2.0        1.0         1.0          1.0      1.0      2  \n",
              "696               7.0        3.0         8.0         10.0      2.0      4  \n",
              "697               3.0        4.0        10.0          6.0      1.0      4  \n",
              "698               4.0        5.0        10.0          4.0      1.0      4  \n",
              "\n",
              "[699 rows x 11 columns]>"
            ]
          },
          "metadata": {},
          "execution_count": 17
        }
      ]
    },
    {
      "cell_type": "code",
      "source": [
        "# Let's explore the dataset and do an overview of visualizations\n",
        "print(data.loc[10])\n",
        "\n",
        "# Print the shape of the dataset\n",
        "print(data.shape)"
      ],
      "metadata": {
        "colab": {
          "base_uri": "https://localhost:8080/"
        },
        "id": "DJGhCymwyGaT",
        "outputId": "85579ba6-dd0c-4391-867e-42f98edcc437"
      },
      "execution_count": 18,
      "outputs": [
        {
          "output_type": "stream",
          "name": "stdout",
          "text": [
            "sample_id           1035283.0\n",
            "cl_thcknss                1.0\n",
            "size_cell_un              1.0\n",
            "shape_cell_un             1.0\n",
            "marg_adhesion             1.0\n",
            "size_cell_single          1.0\n",
            "bare_nucl                 1.0\n",
            "bl_chrmatn                3.0\n",
            "nrml_nucleo               1.0\n",
            "mitoses                   1.0\n",
            "class                     2.0\n",
            "Name: 10, dtype: float64\n",
            "(699, 11)\n"
          ]
        }
      ]
    },
    {
      "cell_type": "code",
      "source": [
        "#changing the value of the column id =1 as machine learning screening on id will not provide us insight\n",
        "data.drop(['sample_id'], 1, inplace=True)"
      ],
      "metadata": {
        "colab": {
          "base_uri": "https://localhost:8080/"
        },
        "id": "oMAe-HjCzGLk",
        "outputId": "2ee477d5-3205-46a1-d134-a04f619b86fa"
      },
      "execution_count": 21,
      "outputs": [
        {
          "output_type": "stream",
          "name": "stderr",
          "text": [
            "<ipython-input-21-6f995181f70a>:2: FutureWarning: In a future version of pandas all arguments of DataFrame.drop except for the argument 'labels' will be keyword-only\n",
            "  data.drop(['sample_id'], 1, inplace=True)\n"
          ]
        }
      ]
    },
    {
      "cell_type": "code",
      "source": [
        "# benign versus malignant\n",
        "data['class'].value_counts()\n",
        "\n",
        "# Therefore, tumours for benign are more than of malignant in the dataset"
      ],
      "metadata": {
        "colab": {
          "base_uri": "https://localhost:8080/"
        },
        "id": "QmyeA2oXztd1",
        "outputId": "4852c815-cab5-4e1a-b2b1-8df7be5f1784"
      },
      "execution_count": 22,
      "outputs": [
        {
          "output_type": "execute_result",
          "data": {
            "text/plain": [
              "2    458\n",
              "4    241\n",
              "Name: class, dtype: int64"
            ]
          },
          "metadata": {},
          "execution_count": 22
        }
      ]
    },
    {
      "cell_type": "markdown",
      "source": [
        "Apply Knn model to predict the tumour is benign or malignant"
      ],
      "metadata": {
        "id": "_RxNzDbB1Twk"
      }
    },
    {
      "cell_type": "code",
      "source": [
        "import numpy as np\n",
        "from sklearn import preprocessing, model_selection, neighbors\n",
        "x = np.array(data.drop(['class'], 1))\n",
        "y = np.array(data['class'])\n",
        "\n",
        "# create training and testing samples:\n",
        "x_train, x_test, y_train, y_test = model_selection.train_test_split(x, y, test_size=0.2)\n",
        "\n",
        "# define the classifier:\n",
        "clf = neighbors.KNeighborsClassifier()\n",
        "\n",
        "# train the classifier:\n",
        "clf.fit(x_train,y_train)\n",
        "\n",
        "# test and print the accuracy:\n",
        "accuracy = clf.score(x_test,y_test)\n",
        "print (accuracy)"
      ],
      "metadata": {
        "colab": {
          "base_uri": "https://localhost:8080/"
        },
        "id": "ba-VVGEN1cCT",
        "outputId": "90070921-6df4-4bd6-be4e-2057b34e517a"
      },
      "execution_count": 24,
      "outputs": [
        {
          "output_type": "stream",
          "name": "stdout",
          "text": [
            "0.9714285714285714\n"
          ]
        },
        {
          "output_type": "stream",
          "name": "stderr",
          "text": [
            "<ipython-input-24-ad1b994f66c2>:3: FutureWarning: In a future version of pandas all arguments of DataFrame.drop except for the argument 'labels' will be keyword-only\n",
            "  x = np.array(data.drop(['class'], 1))\n"
          ]
        }
      ]
    },
    {
      "cell_type": "code",
      "source": [
        "from random import randint\n",
        "# Next, we'll test random values to see what we get out\n",
        "example_measures = np.array([[7,3,2,10,5,10,5,4,4],[4,2,1,1,1,2,3,2,1]])\n",
        "\n",
        "example_measures = example_measures.reshape(len(example_measures),-1)\n",
        "prediction = clf.predict(example_measures)\n",
        "print(prediction)"
      ],
      "metadata": {
        "colab": {
          "base_uri": "https://localhost:8080/"
        },
        "id": "kHscy4I114Rc",
        "outputId": "5943671a-0958-4d26-9558-b98beb75079f"
      },
      "execution_count": 25,
      "outputs": [
        {
          "output_type": "stream",
          "name": "stdout",
          "text": [
            "[4 2]\n"
          ]
        }
      ]
    },
    {
      "cell_type": "markdown",
      "source": [
        "KNN Technique and SVM Method"
      ],
      "metadata": {
        "id": "X5g-s6bfpvex"
      }
    },
    {
      "cell_type": "code",
      "source": [
        "# Importing the libraries\n",
        "\n",
        "import numpy as np\n",
        "import matplotlib.pyplot as plt\n",
        "import pandas as pd\n",
        "from sklearn.metrics import accuracy_score\n",
        "\n",
        "#assign x and y\n",
        "X=np.array(data.drop(['class'],1))\n",
        "y=np.array(data['class'])\n",
        "\n",
        "# Splitting the dataset into the Training set and Test set\n",
        "\n",
        "from sklearn.model_selection import train_test_split\n",
        "X_train, X_test, y_train, y_test = train_test_split(X, y, test_size = 0.35, random_state = 42)\n",
        "\n",
        "# Feature Scaling\n",
        "\n",
        "from sklearn.preprocessing import StandardScaler\n",
        "sc = StandardScaler()\n",
        "X_train = sc.fit_transform(X_train)\n",
        "X_test = sc.transform(X_test)\n",
        "\n",
        "#principle component analysis\n",
        "\n",
        "from sklearn.decomposition import PCA\n",
        "pca = PCA(n_components=2)\n",
        "X_train = pca.fit_transform(X_train)\n",
        "X_test = pca.fit_transform(X_test)\n",
        "explained_variance=pca.explained_variance_ratio_\n",
        "\n",
        "# Fitting KNN to the Training set\n",
        "\n",
        "from sklearn.neighbors import KNeighborsClassifier\n",
        "knn = []\n",
        "for i in range(1,21):\n",
        "            \n",
        "    classifier = KNeighborsClassifier(n_neighbors=i)\n",
        "    trained_model=classifier.fit(X_train,y_train)\n",
        "    trained_model.fit(X_train,y_train )\n",
        "    \n",
        "    # Predicting the Test set results\n",
        "    \n",
        "    y_pred = classifier.predict(X_test)\n",
        "    \n",
        "    # Making the Confusion Matrix\n",
        "    \n",
        "    from sklearn.metrics import confusion_matrix\n",
        "    \n",
        "    cm_KNN = confusion_matrix(y_test, y_pred)\n",
        "    print(cm_KNN)\n",
        "    print(\"Accuracy score of train KNN\")\n",
        "    print(accuracy_score(y_train, trained_model.predict(X_train))*100)\n",
        "    \n",
        "    print(\"Accuracy score of test KNN\")\n",
        "    print(accuracy_score(y_test, y_pred)*100)\n",
        "    \n",
        "    knn.append(accuracy_score(y_test, y_pred)*100)\n",
        "    \n",
        "plt.figure(figsize=(12, 6))  \n",
        "plt.plot(range(1, 21),knn, color='red', linestyle='dashed', marker='o',  \n",
        "             markerfacecolor='blue', markersize=10)\n",
        "plt.title('Accuracy for different  K Value')  \n",
        "plt.xlabel('K Value')  \n",
        "plt.ylabel('Accuracy') \n",
        "\n",
        "# Fitting SVM to the Training set\n",
        "\n",
        "from sklearn.svm import SVC\n",
        "classifier = SVC(kernel = 'linear', random_state = 0)\n",
        "\n",
        "trained_model=classifier.fit(X_train,y_train)\n",
        "trained_model.fit(X_train,y_train )\n",
        "\n",
        "\n",
        "# Predicting the Test set results\n",
        "\n",
        "y_pred = classifier.predict(X_test)\n",
        "\n",
        "# Making the Confusion Matrix\n",
        "\n",
        "from sklearn.metrics import confusion_matrix\n",
        "cm_SVM = confusion_matrix(y_test, y_pred)\n",
        "print(cm_SVM)\n",
        "print(\"Accuracy score of train SVM\")\n",
        "print(accuracy_score(y_train, trained_model.predict(X_train))*100)\n",
        "\n",
        "print(\"Accuracy score of test SVM\")\n",
        "print(accuracy_score(y_test, y_pred)*100)\n"
      ],
      "metadata": {
        "colab": {
          "base_uri": "https://localhost:8080/",
          "height": 1000
        },
        "id": "cLMQjXVppi85",
        "outputId": "3fbda527-56b6-4cc0-ea50-8ac957b9fd74"
      },
      "execution_count": 26,
      "outputs": [
        {
          "output_type": "stream",
          "name": "stderr",
          "text": [
            "<ipython-input-26-495bbab776ec>:9: FutureWarning: In a future version of pandas all arguments of DataFrame.drop except for the argument 'labels' will be keyword-only\n",
            "  X=np.array(data.drop(['class'],1))\n"
          ]
        },
        {
          "output_type": "stream",
          "name": "stdout",
          "text": [
            "[[159   5]\n",
            " [  2  79]]\n",
            "Accuracy score of train KNN\n",
            "100.0\n",
            "Accuracy score of test KNN\n",
            "97.14285714285714\n",
            "[[160   4]\n",
            " [  4  77]]\n",
            "Accuracy score of train KNN\n",
            "96.69603524229075\n",
            "Accuracy score of test KNN\n",
            "96.73469387755102\n",
            "[[160   4]\n",
            " [  2  79]]\n",
            "Accuracy score of train KNN\n",
            "96.91629955947137\n",
            "Accuracy score of test KNN\n",
            "97.55102040816327\n",
            "[[160   4]\n",
            " [  3  78]]\n",
            "Accuracy score of train KNN\n",
            "95.81497797356829\n",
            "Accuracy score of test KNN\n",
            "97.14285714285714\n",
            "[[160   4]\n",
            " [  2  79]]\n",
            "Accuracy score of train KNN\n",
            "96.91629955947137\n",
            "Accuracy score of test KNN\n",
            "97.55102040816327\n",
            "[[160   4]\n",
            " [  3  78]]\n",
            "Accuracy score of train KNN\n",
            "96.47577092511013\n",
            "Accuracy score of test KNN\n",
            "97.14285714285714\n",
            "[[160   4]\n",
            " [  2  79]]\n",
            "Accuracy score of train KNN\n",
            "96.0352422907489\n",
            "Accuracy score of test KNN\n",
            "97.55102040816327\n",
            "[[160   4]\n",
            " [  2  79]]\n",
            "Accuracy score of train KNN\n",
            "96.25550660792952\n",
            "Accuracy score of test KNN\n",
            "97.55102040816327\n",
            "[[159   5]\n",
            " [  2  79]]\n",
            "Accuracy score of train KNN\n",
            "96.0352422907489\n",
            "Accuracy score of test KNN\n",
            "97.14285714285714\n",
            "[[160   4]\n",
            " [  2  79]]\n",
            "Accuracy score of train KNN\n",
            "96.0352422907489\n",
            "Accuracy score of test KNN\n",
            "97.55102040816327\n",
            "[[159   5]\n",
            " [  2  79]]\n",
            "Accuracy score of train KNN\n",
            "96.0352422907489\n",
            "Accuracy score of test KNN\n",
            "97.14285714285714\n",
            "[[160   4]\n",
            " [  2  79]]\n",
            "Accuracy score of train KNN\n",
            "96.0352422907489\n",
            "Accuracy score of test KNN\n",
            "97.55102040816327\n",
            "[[160   4]\n",
            " [  2  79]]\n",
            "Accuracy score of train KNN\n",
            "96.0352422907489\n",
            "Accuracy score of test KNN\n",
            "97.55102040816327\n",
            "[[160   4]\n",
            " [  2  79]]\n",
            "Accuracy score of train KNN\n",
            "96.0352422907489\n",
            "Accuracy score of test KNN\n",
            "97.55102040816327\n",
            "[[160   4]\n",
            " [  2  79]]\n",
            "Accuracy score of train KNN\n",
            "96.0352422907489\n",
            "Accuracy score of test KNN\n",
            "97.55102040816327\n",
            "[[160   4]\n",
            " [  2  79]]\n",
            "Accuracy score of train KNN\n",
            "96.0352422907489\n",
            "Accuracy score of test KNN\n",
            "97.55102040816327\n",
            "[[160   4]\n",
            " [  2  79]]\n",
            "Accuracy score of train KNN\n",
            "96.0352422907489\n",
            "Accuracy score of test KNN\n",
            "97.55102040816327\n",
            "[[160   4]\n",
            " [  2  79]]\n",
            "Accuracy score of train KNN\n",
            "96.0352422907489\n",
            "Accuracy score of test KNN\n",
            "97.55102040816327\n",
            "[[160   4]\n",
            " [  2  79]]\n",
            "Accuracy score of train KNN\n",
            "96.0352422907489\n",
            "Accuracy score of test KNN\n",
            "97.55102040816327\n",
            "[[160   4]\n",
            " [  2  79]]\n",
            "Accuracy score of train KNN\n",
            "96.0352422907489\n",
            "Accuracy score of test KNN\n",
            "97.55102040816327\n",
            "[[160   4]\n",
            " [  3  78]]\n",
            "Accuracy score of train SVM\n",
            "96.69603524229075\n",
            "Accuracy score of test SVM\n",
            "97.14285714285714\n"
          ]
        },
        {
          "output_type": "display_data",
          "data": {
            "text/plain": [
              "<Figure size 864x432 with 1 Axes>"
            ],
            "image/png": "[encoded data removed]"
          },
          "metadata": {
            "needs_background": "light"
          }
        }
      ]
    },
    {
      "cell_type": "markdown",
      "source": [
        "kNN Accuracy Analysis"
      ],
      "metadata": {
        "id": "t5EZqT1NHx0C"
      }
    },
    {
      "cell_type": "code",
      "source": [
        "# Define input and output\n",
        "X = np.array(data.iloc[:, 1:])\n",
        "y = np.array(data['class'])\n",
        "# Splitting data to training and testing\n",
        "from sklearn.model_selection import train_test_split\n",
        "X_train, X_test, y_train, y_test = train_test_split(\n",
        "    X, y, test_size = 0.33, random_state = 42)\n",
        "# Using Sklearn\n",
        "knn = KNeighborsClassifier(n_neighbors = 13)\n",
        "knn.fit(X_train, y_train)\n",
        "\n",
        "\n"
      ],
      "metadata": {
        "colab": {
          "base_uri": "https://localhost:8080/"
        },
        "id": "EhahBZkIHw6_",
        "outputId": "67007549-9989-45c6-b394-f540c7c00f2b"
      },
      "execution_count": 27,
      "outputs": [
        {
          "output_type": "execute_result",
          "data": {
            "text/plain": [
              "KNeighborsClassifier(n_neighbors=13)"
            ]
          },
          "metadata": {},
          "execution_count": 27
        }
      ]
    },
    {
      "cell_type": "code",
      "source": [
        "# Prediction Score\n",
        "knn.score(X_test, y_test)"
      ],
      "metadata": {
        "colab": {
          "base_uri": "https://localhost:8080/"
        },
        "id": "ZksYdm7_IfKV",
        "outputId": "d4534278-281e-4e6e-dbc7-4da72a6cfbd6"
      },
      "execution_count": 28,
      "outputs": [
        {
          "output_type": "execute_result",
          "data": {
            "text/plain": [
              "0.9696969696969697"
            ]
          },
          "metadata": {},
          "execution_count": 28
        }
      ]
    },
    {
      "cell_type": "code",
      "source": [
        "# Performing Cross Validation\n",
        "neighbors = []\n",
        "cv_scores = []\n",
        "  \n",
        "from sklearn.model_selection import cross_val_score\n",
        "# perform 10 fold cross validation\n",
        "for k in range(1, 51, 2):\n",
        "    neighbors.append(k)\n",
        "    knn = KNeighborsClassifier(n_neighbors = k)\n",
        "    scores = cross_val_score(\n",
        "        knn, X_train, y_train, cv = 10, scoring = 'accuracy')\n",
        "    cv_scores.append(scores.mean())"
      ],
      "metadata": {
        "id": "vbtBYK14Iyt2"
      },
      "execution_count": 29,
      "outputs": []
    },
    {
      "cell_type": "code",
      "source": [
        "# Misclassification error versus k\n",
        "MSE = [1-x for x in cv_scores]\n",
        "  \n",
        "# determining the best k\n",
        "optimal_k = neighbors[MSE.index(min(MSE))]\n",
        "print('The optimal number of neighbors is % d ' % optimal_k)\n",
        "  \n",
        "# plot misclassification error versus k\n",
        "plt.figure(figsize = (10, 6))\n",
        "plt.plot(neighbors, MSE)\n",
        "plt.xlabel('Number of neighbors')\n",
        "plt.ylabel('Misclassification Error')\n",
        "plt.show()"
      ],
      "metadata": {
        "colab": {
          "base_uri": "https://localhost:8080/",
          "height": 406
        },
        "id": "n6kL-0OuI_av",
        "outputId": "f9d4ee29-3d83-4de7-983c-a6234b9dc400"
      },
      "execution_count": 30,
      "outputs": [
        {
          "output_type": "stream",
          "name": "stdout",
          "text": [
            "The optimal number of neighbors is  3 \n"
          ]
        },
        {
          "output_type": "display_data",
          "data": {
            "text/plain": [
              "<Figure size 720x432 with 1 Axes>"
            ],
            "image/png": "[encoded data removed]"
          },
          "metadata": {
            "needs_background": "light"
          }
        }
      ]
    },
    {
      "cell_type": "markdown",
      "source": [
        "SVM Analysis - Linear kernel"
      ],
      "metadata": {
        "id": "iySwBjg43vLJ"
      }
    },
    {
      "cell_type": "code",
      "source": [
        "from sklearn.model_selection import train_test_split\n",
        " \n",
        "# To calculate the accuracy score of the model\n",
        "from sklearn.metrics import accuracy_score, confusion_matrix\n",
        " \n",
        "target = data[\"class\"]\n",
        "features = data.drop([\"class\"], axis=1)\n",
        "X_train, X_test, y_train, y_test = train_test_split(features,target, test_size = 0.2, random_state = 10)\n",
        "from sklearn.svm import SVC\n",
        " \n",
        "# Building a Support Vector Machine on train data\n",
        "svc_model = SVC(C= .1, kernel='linear', gamma= 1)\n",
        "svc_model.fit(X_train, y_train)\n",
        " \n",
        "prediction = svc_model .predict(X_test)\n",
        "# check the accuracy on the training set\n",
        "print(svc_model.score(X_train, y_train))\n",
        "print(svc_model.score(X_test, y_test))"
      ],
      "metadata": {
        "colab": {
          "base_uri": "https://localhost:8080/"
        },
        "id": "Q3ovrBYH3uCz",
        "outputId": "b2cf84cc-8155-4e34-b751-b9515f65ba98"
      },
      "execution_count": 32,
      "outputs": [
        {
          "output_type": "stream",
          "name": "stdout",
          "text": [
            "0.9731663685152058\n",
            "0.9642857142857143\n"
          ]
        }
      ]
    },
    {
      "cell_type": "code",
      "source": [
        "print(\"Confusion Matrix:\\n\",confusion_matrix(prediction,y_test))"
      ],
      "metadata": {
        "colab": {
          "base_uri": "https://localhost:8080/"
        },
        "id": "HKMWL6up4t3d",
        "outputId": "2bedf4c8-ed44-4209-8cdd-f315ca040708"
      },
      "execution_count": 33,
      "outputs": [
        {
          "output_type": "stream",
          "name": "stdout",
          "text": [
            "Confusion Matrix:\n",
            " [[95  2]\n",
            " [ 3 40]]\n"
          ]
        }
      ]
    },
    {
      "cell_type": "code",
      "source": [
        "# Building a Support Vector Machine on train data\n",
        "svc_model = SVC(kernel='rbf')\n",
        "svc_model.fit(X_train, y_train)"
      ],
      "metadata": {
        "colab": {
          "base_uri": "https://localhost:8080/"
        },
        "id": "WNVy-Bpd40d0",
        "outputId": "f3a17971-6689-4412-e46b-29b49eb2402d"
      },
      "execution_count": 34,
      "outputs": [
        {
          "output_type": "execute_result",
          "data": {
            "text/plain": [
              "SVC()"
            ]
          },
          "metadata": {},
          "execution_count": 34
        }
      ]
    },
    {
      "cell_type": "code",
      "source": [
        "print(svc_model.score(X_train, y_train))\n",
        "print(svc_model.score(X_test, y_test))"
      ],
      "metadata": {
        "colab": {
          "base_uri": "https://localhost:8080/"
        },
        "id": "7kA3rxfs5Vvc",
        "outputId": "1d62f968-eaa1-43f6-95e0-a2803c7d6ea6"
      },
      "execution_count": 35,
      "outputs": [
        {
          "output_type": "stream",
          "name": "stdout",
          "text": [
            "0.9767441860465116\n",
            "0.9642857142857143\n"
          ]
        }
      ]
    },
    {
      "cell_type": "code",
      "source": [
        "import seaborn as sns\n",
        "import matplotlib.pyplot as plt\n",
        "sns.lmplot(x = 'cl_thcknss', y = 'size_cell_un', hue = 'class', data = data)\n",
        "# as can shown from the result, mostly are benign"
      ],
      "metadata": {
        "colab": {
          "base_uri": "https://localhost:8080/",
          "height": 387
        },
        "id": "wS9LdAzB9i_8",
        "outputId": "2dbf237a-f64a-4ad0-9320-3b9f729d8aec"
      },
      "execution_count": 40,
      "outputs": [
        {
          "output_type": "execute_result",
          "data": {
            "text/plain": [
              "<seaborn.axisgrid.FacetGrid at 0x7f3d35cd8c40>"
            ]
          },
          "metadata": {},
          "execution_count": 40
        },
        {
          "output_type": "display_data",
          "data": {
            "text/plain": [
              "<Figure size 402.25x360 with 1 Axes>"
            ],
            "image/png": "[encoded data removed]"
          },
          "metadata": {
            "needs_background": "light"
          }
        }
      ]
    },
    {
      "cell_type": "code",
      "source": [
        "print(data.tail)"
      ],
      "metadata": {
        "colab": {
          "base_uri": "https://localhost:8080/"
        },
        "id": "KdLvizSIALOv",
        "outputId": "e44c015e-6d1a-4a7e-fe8b-92bd370c8c2d"
      },
      "execution_count": 41,
      "outputs": [
        {
          "output_type": "stream",
          "name": "stdout",
          "text": [
            "<bound method NDFrame.tail of      cl_thcknss  size_cell_un  shape_cell_un  marg_adhesion  size_cell_single  \\\n",
            "0           5.0           1.0            1.0            1.0               2.0   \n",
            "1           5.0           4.0            4.0            5.0               7.0   \n",
            "2           3.0           1.0            1.0            1.0               2.0   \n",
            "3           6.0           8.0            8.0            1.0               3.0   \n",
            "4           4.0           1.0            1.0            3.0               2.0   \n",
            "..          ...           ...            ...            ...               ...   \n",
            "694         3.0           1.0            1.0            1.0               3.0   \n",
            "695         2.0           1.0            1.0            1.0               2.0   \n",
            "696         5.0          10.0           10.0            3.0               7.0   \n",
            "697         4.0           8.0            6.0            4.0               3.0   \n",
            "698         4.0           8.0            8.0            5.0               4.0   \n",
            "\n",
            "     bare_nucl  bl_chrmatn  nrml_nucleo  mitoses  class  \n",
            "0          1.0         3.0          1.0      1.0      0  \n",
            "1         10.0         3.0          2.0      1.0      0  \n",
            "2          2.0         3.0          1.0      1.0      0  \n",
            "3          4.0         3.0          7.0      1.0      0  \n",
            "4          1.0         3.0          1.0      1.0      0  \n",
            "..         ...         ...          ...      ...    ...  \n",
            "694        2.0         1.0          1.0      1.0      0  \n",
            "695        1.0         1.0          1.0      1.0      0  \n",
            "696        3.0         8.0         10.0      2.0      0  \n",
            "697        4.0        10.0          6.0      1.0      0  \n",
            "698        5.0        10.0          4.0      1.0      0  \n",
            "\n",
            "[699 rows x 10 columns]>\n"
          ]
        }
      ]
    },
    {
      "cell_type": "code",
      "source": [
        "import seaborn as sns\n",
        "import matplotlib.pyplot as plt\n",
        "sns.lmplot(x = 'bl_chrmatn', y = 'nrml_nucleo', hue = 'class', data = data)"
      ],
      "metadata": {
        "colab": {
          "base_uri": "https://localhost:8080/",
          "height": 387
        },
        "id": "_688WIYT_-EU",
        "outputId": "3ac60f28-92ca-4c43-aa83-7c4fad310f2d"
      },
      "execution_count": 42,
      "outputs": [
        {
          "output_type": "execute_result",
          "data": {
            "text/plain": [
              "<seaborn.axisgrid.FacetGrid at 0x7f3d3788bf40>"
            ]
          },
          "metadata": {},
          "execution_count": 42
        },
        {
          "output_type": "display_data",
          "data": {
            "text/plain": [
              "<Figure size 402.25x360 with 1 Axes>"
            ],
            "image/png": "[encoded data removed]"
          },
          "metadata": {
            "needs_background": "light"
          }
        }
      ]
    },
    {
      "cell_type": "code",
      "source": [
        "\n",
        "import matplotlib.pyplot as plt\n",
        "sns.lmplot(x = 'shape_cell_un', y = 'mitoses', hue = 'class', data = data)"
      ],
      "metadata": {
        "colab": {
          "base_uri": "https://localhost:8080/",
          "height": 387
        },
        "id": "08Fi24tMGpjZ",
        "outputId": "abf8d767-547b-4a41-f958-72f77d6fb0a0"
      },
      "execution_count": 43,
      "outputs": [
        {
          "output_type": "execute_result",
          "data": {
            "text/plain": [
              "<seaborn.axisgrid.FacetGrid at 0x7f3d312a4ca0>"
            ]
          },
          "metadata": {},
          "execution_count": 43
        },
        {
          "output_type": "display_data",
          "data": {
            "text/plain": [
              "<Figure size 402.25x360 with 1 Axes>"
            ],
            "image/png": "[encoded data removed]"
          },
          "metadata": {
            "needs_background": "light"
          }
        }
      ]
    },
    {
      "cell_type": "code",
      "source": [
        "# Model specific Library\n",
        "from sklearn.naive_bayes import GaussianNB\n",
        "from sklearn.naive_bayes import MultinomialNB\n",
        "from sklearn.naive_bayes import BernoulliNB\n",
        "\n",
        "data.keys()"
      ],
      "metadata": {
        "colab": {
          "base_uri": "https://localhost:8080/"
        },
        "id": "WScgbzhXFSe_",
        "outputId": "561b11c6-1692-48a6-cf6d-28ddd8a9f171"
      },
      "execution_count": 44,
      "outputs": [
        {
          "output_type": "execute_result",
          "data": {
            "text/plain": [
              "Index(['cl_thcknss', 'size_cell_un', 'shape_cell_un', 'marg_adhesion',\n",
              "       'size_cell_single', 'bare_nucl', 'bl_chrmatn', 'nrml_nucleo', 'mitoses',\n",
              "       'class'],\n",
              "      dtype='object')"
            ]
          },
          "metadata": {},
          "execution_count": 44
        }
      ]
    },
    {
      "cell_type": "code",
      "source": [
        "#Split the data into X and y\n",
        "X = data.iloc[:, 0:-1]\n",
        "y = data.iloc[:,-1]"
      ],
      "metadata": {
        "id": "1xENXf33HFAH"
      },
      "execution_count": 45,
      "outputs": []
    },
    {
      "cell_type": "code",
      "source": [
        "X.shape, y.shape"
      ],
      "metadata": {
        "colab": {
          "base_uri": "https://localhost:8080/"
        },
        "id": "eppevstGHWU4",
        "outputId": "d2c43aaa-c97b-44da-e142-0f8836536e9c"
      },
      "execution_count": 46,
      "outputs": [
        {
          "output_type": "execute_result",
          "data": {
            "text/plain": [
              "((699, 9), (699,))"
            ]
          },
          "metadata": {},
          "execution_count": 46
        }
      ]
    },
    {
      "cell_type": "code",
      "source": [
        "X_train, X_val, y_train, y_val = train_test_split(X, y, test_size = 0.2, random_state = 999)"
      ],
      "metadata": {
        "id": "A2I7DEpKHi8e"
      },
      "execution_count": 47,
      "outputs": []
    },
    {
      "cell_type": "code",
      "source": [
        "X_train.shape, y_train.shape, X_val.shape, y_val.shape"
      ],
      "metadata": {
        "colab": {
          "base_uri": "https://localhost:8080/"
        },
        "id": "lhZ0H6OwHtPQ",
        "outputId": "3d6064aa-43fc-46a8-b85c-20cda9bc82e1"
      },
      "execution_count": 48,
      "outputs": [
        {
          "output_type": "execute_result",
          "data": {
            "text/plain": [
              "((559, 9), (559,), (140, 9), (140,))"
            ]
          },
          "metadata": {},
          "execution_count": 48
        }
      ]
    },
    {
      "cell_type": "code",
      "source": [
        "#Train Naive Bayes Classifier Model\n",
        "#Gaussian Naive Bayes\n",
        "clf = GaussianNB()\n",
        "clf.fit(X_train, y_train)"
      ],
      "metadata": {
        "colab": {
          "base_uri": "https://localhost:8080/"
        },
        "id": "8Wcqm1ipH4D3",
        "outputId": "f506cb05-47a2-4963-954a-0da339943d3a"
      },
      "execution_count": 49,
      "outputs": [
        {
          "output_type": "execute_result",
          "data": {
            "text/plain": [
              "GaussianNB()"
            ]
          },
          "metadata": {},
          "execution_count": 49
        }
      ]
    },
    {
      "cell_type": "code",
      "source": [
        "clf.score(X_val, y_val)"
      ],
      "metadata": {
        "colab": {
          "base_uri": "https://localhost:8080/"
        },
        "id": "OsquYGVhIKvv",
        "outputId": "bad19271-507c-48d8-e527-b6e4f4e92e41"
      },
      "execution_count": 50,
      "outputs": [
        {
          "output_type": "execute_result",
          "data": {
            "text/plain": [
              "1.0"
            ]
          },
          "metadata": {},
          "execution_count": 50
        }
      ]
    },
    {
      "cell_type": "code",
      "execution_count": 51,
      "metadata": {
        "colab": {
          "base_uri": "https://localhost:8080/",
          "height": 607
        },
        "id": "DnW9V_ATa3W1",
        "outputId": "bff4c24f-dc43-48db-981c-0591cf7b5e7b"
      },
      "outputs": [
        {
          "output_type": "display_data",
          "data": {
            "text/plain": [
              "<Figure size 720x720 with 12 Axes>"
            ],
            "image/png": "[encoded data removed]"
          },
          "metadata": {
            "needs_background": "light"
          }
        }
      ],
      "source": [
        "# Plot histograms for each variable\n",
        "data.hist(figsize = (10, 10))\n",
        "plt.show()"
      ]
    },
    {
      "cell_type": "code",
      "source": [
        "data.head()"
      ],
      "metadata": {
        "colab": {
          "base_uri": "https://localhost:8080/",
          "height": 206
        },
        "id": "77thPNNhpzpk",
        "outputId": "36f82adb-4f0a-4fe4-fae6-9293833848bc"
      },
      "execution_count": 58,
      "outputs": [
        {
          "output_type": "execute_result",
          "data": {
            "text/plain": [
              "   cl_thcknss  size_cell_un  shape_cell_un  marg_adhesion  size_cell_single  \\\n",
              "0         5.0           1.0            1.0            1.0               2.0   \n",
              "1         5.0           4.0            4.0            5.0               7.0   \n",
              "2         3.0           1.0            1.0            1.0               2.0   \n",
              "3         6.0           8.0            8.0            1.0               3.0   \n",
              "4         4.0           1.0            1.0            3.0               2.0   \n",
              "\n",
              "   bare_nucl  bl_chrmatn  nrml_nucleo  mitoses  class  \n",
              "0        1.0         3.0          1.0      1.0      0  \n",
              "1       10.0         3.0          2.0      1.0      0  \n",
              "2        2.0         3.0          1.0      1.0      0  \n",
              "3        4.0         3.0          7.0      1.0      0  \n",
              "4        1.0         3.0          1.0      1.0      0  "
            ],
            "text/html": [
              "\n",
              "  <div id=\"df-1b5e6975-f9aa-40ab-a848-d7d74a44f1aa\">\n",
              "    <div class=\"colab-df-container\">\n",
              "      <div>\n",
              "<style scoped>\n",
              "    .dataframe tbody tr th:only-of-type {\n",
              "        vertical-align: middle;\n",
              "    }\n",
              "\n",
              "    .dataframe tbody tr th {\n",
              "        vertical-align: top;\n",
              "    }\n",
              "\n",
              "    .dataframe thead th {\n",
              "        text-align: right;\n",
              "    }\n",
              "</style>\n",
              "<table border=\"1\" class=\"dataframe\">\n",
              "  <thead>\n",
              "    <tr style=\"text-align: right;\">\n",
              "      <th></th>\n",
              "      <th>cl_thcknss</th>\n",
              "      <th>size_cell_un</th>\n",
              "      <th>shape_cell_un</th>\n",
              "      <th>marg_adhesion</th>\n",
              "      <th>size_cell_single</th>\n",
              "      <th>bare_nucl</th>\n",
              "      <th>bl_chrmatn</th>\n",
              "      <th>nrml_nucleo</th>\n",
              "      <th>mitoses</th>\n",
              "      <th>class</th>\n",
              "    </tr>\n",
              "  </thead>\n",
              "  <tbody>\n",
              "    <tr>\n",
              "      <th>0</th>\n",
              "      <td>5.0</td>\n",
              "      <td>1.0</td>\n",
              "      <td>1.0</td>\n",
              "      <td>1.0</td>\n",
              "      <td>2.0</td>\n",
              "      <td>1.0</td>\n",
              "      <td>3.0</td>\n",
              "      <td>1.0</td>\n",
              "      <td>1.0</td>\n",
              "      <td>0</td>\n",
              "    </tr>\n",
              "    <tr>\n",
              "      <th>1</th>\n",
              "      <td>5.0</td>\n",
              "      <td>4.0</td>\n",
              "      <td>4.0</td>\n",
              "      <td>5.0</td>\n",
              "      <td>7.0</td>\n",
              "      <td>10.0</td>\n",
              "      <td>3.0</td>\n",
              "      <td>2.0</td>\n",
              "      <td>1.0</td>\n",
              "      <td>0</td>\n",
              "    </tr>\n",
              "    <tr>\n",
              "      <th>2</th>\n",
              "      <td>3.0</td>\n",
              "      <td>1.0</td>\n",
              "      <td>1.0</td>\n",
              "      <td>1.0</td>\n",
              "      <td>2.0</td>\n",
              "      <td>2.0</td>\n",
              "      <td>3.0</td>\n",
              "      <td>1.0</td>\n",
              "      <td>1.0</td>\n",
              "      <td>0</td>\n",
              "    </tr>\n",
              "    <tr>\n",
              "      <th>3</th>\n",
              "      <td>6.0</td>\n",
              "      <td>8.0</td>\n",
              "      <td>8.0</td>\n",
              "      <td>1.0</td>\n",
              "      <td>3.0</td>\n",
              "      <td>4.0</td>\n",
              "      <td>3.0</td>\n",
              "      <td>7.0</td>\n",
              "      <td>1.0</td>\n",
              "      <td>0</td>\n",
              "    </tr>\n",
              "    <tr>\n",
              "      <th>4</th>\n",
              "      <td>4.0</td>\n",
              "      <td>1.0</td>\n",
              "      <td>1.0</td>\n",
              "      <td>3.0</td>\n",
              "      <td>2.0</td>\n",
              "      <td>1.0</td>\n",
              "      <td>3.0</td>\n",
              "      <td>1.0</td>\n",
              "      <td>1.0</td>\n",
              "      <td>0</td>\n",
              "    </tr>\n",
              "  </tbody>\n",
              "</table>\n",
              "</div>\n",
              "      <button class=\"colab-df-convert\" onclick=\"convertToInteractive('df-1b5e6975-f9aa-40ab-a848-d7d74a44f1aa')\"\n",
              "              title=\"Convert this dataframe to an interactive table.\"\n",
              "              style=\"display:none;\">\n",
              "        \n",
              "  <svg xmlns=\"http://www.w3.org/2000/svg\" height=\"24px\"viewBox=\"0 0 24 24\"\n",
              "       width=\"24px\">\n",
              "    <path d=\"M0 0h24v24H0V0z\" fill=\"none\"/>\n",
              "    <path d=\"M18.56 5.44l.94 2.06.94-2.06 2.06-.94-2.06-.94-.94-2.06-.94 2.06-2.06.94zm-11 1L8.5 8.5l.94-2.06 2.06-.94-2.06-.94L8.5 2.5l-.94 2.06-2.06.94zm10 10l.94 2.06.94-2.06 2.06-.94-2.06-.94-.94-2.06-.94 2.06-2.06.94z\"/><path d=\"M17.41 7.96l-1.37-1.37c-.4-.4-.92-.59-1.43-.59-.52 0-1.04.2-1.43.59L10.3 9.45l-7.72 7.72c-.78.78-.78 2.05 0 2.83L4 21.41c.39.39.9.59 1.41.59.51 0 1.02-.2 1.41-.59l7.78-7.78 2.81-2.81c.8-.78.8-2.07 0-2.86zM5.41 20L4 18.59l7.72-7.72 1.47 1.35L5.41 20z\"/>\n",
              "  </svg>\n",
              "      </button>\n",
              "      \n",
              "  <style>\n",
              "    .colab-df-container {\n",
              "      display:flex;\n",
              "      flex-wrap:wrap;\n",
              "      gap: 12px;\n",
              "    }\n",
              "\n",
              "    .colab-df-convert {\n",
              "      background-color: #E8F0FE;\n",
              "      border: none;\n",
              "      border-radius: 50%;\n",
              "      cursor: pointer;\n",
              "      display: none;\n",
              "      fill: #1967D2;\n",
              "      height: 32px;\n",
              "      padding: 0 0 0 0;\n",
              "      width: 32px;\n",
              "    }\n",
              "\n",
              "    .colab-df-convert:hover {\n",
              "      background-color: #E2EBFA;\n",
              "      box-shadow: 0px 1px 2px rgba(60, 64, 67, 0.3), 0px 1px 3px 1px rgba(60, 64, 67, 0.15);\n",
              "      fill: #174EA6;\n",
              "    }\n",
              "\n",
              "    [theme=dark] .colab-df-convert {\n",
              "      background-color: #3B4455;\n",
              "      fill: #D2E3FC;\n",
              "    }\n",
              "\n",
              "    [theme=dark] .colab-df-convert:hover {\n",
              "      background-color: #434B5C;\n",
              "      box-shadow: 0px 1px 3px 1px rgba(0, 0, 0, 0.15);\n",
              "      filter: drop-shadow(0px 1px 2px rgba(0, 0, 0, 0.3));\n",
              "      fill: #FFFFFF;\n",
              "    }\n",
              "  </style>\n",
              "\n",
              "      <script>\n",
              "        const buttonEl =\n",
              "          document.querySelector('#df-1b5e6975-f9aa-40ab-a848-d7d74a44f1aa button.colab-df-convert');\n",
              "        buttonEl.style.display =\n",
              "          google.colab.kernel.accessAllowed ? 'block' : 'none';\n",
              "\n",
              "        async function convertToInteractive(key) {\n",
              "          const element = document.querySelector('#df-1b5e6975-f9aa-40ab-a848-d7d74a44f1aa');\n",
              "          const dataTable =\n",
              "            await google.colab.kernel.invokeFunction('convertToInteractive',\n",
              "                                                     [key], {});\n",
              "          if (!dataTable) return;\n",
              "\n",
              "          const docLinkHtml = 'Like what you see? Visit the ' +\n",
              "            '<a target=\"_blank\" href=https://colab.research.google.com/notebooks/data_table.ipynb>data table notebook</a>'\n",
              "            + ' to learn more about interactive tables.';\n",
              "          element.innerHTML = '';\n",
              "          dataTable['output_type'] = 'display_data';\n",
              "          await google.colab.output.renderOutput(dataTable, element);\n",
              "          const docLink = document.createElement('div');\n",
              "          docLink.innerHTML = docLinkHtml;\n",
              "          element.appendChild(docLink);\n",
              "        }\n",
              "      </script>\n",
              "    </div>\n",
              "  </div>\n",
              "  "
            ]
          },
          "metadata": {},
          "execution_count": 58
        }
      ]
    },
    {
      "cell_type": "code",
      "source": [
        "data.shape"
      ],
      "metadata": {
        "colab": {
          "base_uri": "https://localhost:8080/"
        },
        "id": "Yz2FjCtltD2D",
        "outputId": "0e4c7465-4fb3-424d-be57-02dee644bff1"
      },
      "execution_count": 61,
      "outputs": [
        {
          "output_type": "execute_result",
          "data": {
            "text/plain": [
              "(699, 10)"
            ]
          },
          "metadata": {},
          "execution_count": 61
        }
      ]
    },
    {
      "cell_type": "code",
      "source": [
        "# Scaling the dataset\n",
        "from sklearn import preprocessing\n",
        "datas = pd.DataFrame(preprocessing.scale(data.iloc[:,1:10]))\n",
        "datas.columns = list(data.iloc[:,1:10].columns)\n",
        "datas['class'] = data['class']\n",
        "datas.head()"
      ],
      "metadata": {
        "colab": {
          "base_uri": "https://localhost:8080/",
          "height": 206
        },
        "id": "wZMtrWoqs4Es",
        "outputId": "5a1539d3-b40b-4fea-8515-e5a09df9ecc9"
      },
      "execution_count": 62,
      "outputs": [
        {
          "output_type": "execute_result",
          "data": {
            "text/plain": [
              "   size_cell_un  shape_cell_un  marg_adhesion  size_cell_single  bare_nucl  \\\n",
              "0     -0.699995      -0.743299      -0.633247         -0.549561  -0.698698   \n",
              "1      0.283845       0.266875       0.768621          1.710106   1.790166   \n",
              "2     -0.699995      -0.743299      -0.633247         -0.549561  -0.422158   \n",
              "3      1.595632       1.613773      -0.633247         -0.097628   0.130923   \n",
              "4     -0.699995      -0.743299       0.067687         -0.549561  -0.698698   \n",
              "\n",
              "   bl_chrmatn  nrml_nucleo   mitoses  class  \n",
              "0   -0.179662    -0.611825 -0.343912      0  \n",
              "1   -0.179662    -0.284112 -0.343912      0  \n",
              "2   -0.179662    -0.611825 -0.343912      0  \n",
              "3   -0.179662     1.354454 -0.343912      0  \n",
              "4   -0.179662    -0.611825 -0.343912      0  "
            ],
            "text/html": [
              "\n",
              "  <div id=\"df-d302df47-a433-4dbe-adb3-511598c74aad\">\n",
              "    <div class=\"colab-df-container\">\n",
              "      <div>\n",
              "<style scoped>\n",
              "    .dataframe tbody tr th:only-of-type {\n",
              "        vertical-align: middle;\n",
              "    }\n",
              "\n",
              "    .dataframe tbody tr th {\n",
              "        vertical-align: top;\n",
              "    }\n",
              "\n",
              "    .dataframe thead th {\n",
              "        text-align: right;\n",
              "    }\n",
              "</style>\n",
              "<table border=\"1\" class=\"dataframe\">\n",
              "  <thead>\n",
              "    <tr style=\"text-align: right;\">\n",
              "      <th></th>\n",
              "      <th>size_cell_un</th>\n",
              "      <th>shape_cell_un</th>\n",
              "      <th>marg_adhesion</th>\n",
              "      <th>size_cell_single</th>\n",
              "      <th>bare_nucl</th>\n",
              "      <th>bl_chrmatn</th>\n",
              "      <th>nrml_nucleo</th>\n",
              "      <th>mitoses</th>\n",
              "      <th>class</th>\n",
              "    </tr>\n",
              "  </thead>\n",
              "  <tbody>\n",
              "    <tr>\n",
              "      <th>0</th>\n",
              "      <td>-0.699995</td>\n",
              "      <td>-0.743299</td>\n",
              "      <td>-0.633247</td>\n",
              "      <td>-0.549561</td>\n",
              "      <td>-0.698698</td>\n",
              "      <td>-0.179662</td>\n",
              "      <td>-0.611825</td>\n",
              "      <td>-0.343912</td>\n",
              "      <td>0</td>\n",
              "    </tr>\n",
              "    <tr>\n",
              "      <th>1</th>\n",
              "      <td>0.283845</td>\n",
              "      <td>0.266875</td>\n",
              "      <td>0.768621</td>\n",
              "      <td>1.710106</td>\n",
              "      <td>1.790166</td>\n",
              "      <td>-0.179662</td>\n",
              "      <td>-0.284112</td>\n",
              "      <td>-0.343912</td>\n",
              "      <td>0</td>\n",
              "    </tr>\n",
              "    <tr>\n",
              "      <th>2</th>\n",
              "      <td>-0.699995</td>\n",
              "      <td>-0.743299</td>\n",
              "      <td>-0.633247</td>\n",
              "      <td>-0.549561</td>\n",
              "      <td>-0.422158</td>\n",
              "      <td>-0.179662</td>\n",
              "      <td>-0.611825</td>\n",
              "      <td>-0.343912</td>\n",
              "      <td>0</td>\n",
              "    </tr>\n",
              "    <tr>\n",
              "      <th>3</th>\n",
              "      <td>1.595632</td>\n",
              "      <td>1.613773</td>\n",
              "      <td>-0.633247</td>\n",
              "      <td>-0.097628</td>\n",
              "      <td>0.130923</td>\n",
              "      <td>-0.179662</td>\n",
              "      <td>1.354454</td>\n",
              "      <td>-0.343912</td>\n",
              "      <td>0</td>\n",
              "    </tr>\n",
              "    <tr>\n",
              "      <th>4</th>\n",
              "      <td>-0.699995</td>\n",
              "      <td>-0.743299</td>\n",
              "      <td>0.067687</td>\n",
              "      <td>-0.549561</td>\n",
              "      <td>-0.698698</td>\n",
              "      <td>-0.179662</td>\n",
              "      <td>-0.611825</td>\n",
              "      <td>-0.343912</td>\n",
              "      <td>0</td>\n",
              "    </tr>\n",
              "  </tbody>\n",
              "</table>\n",
              "</div>\n",
              "      <button class=\"colab-df-convert\" onclick=\"convertToInteractive('df-d302df47-a433-4dbe-adb3-511598c74aad')\"\n",
              "              title=\"Convert this dataframe to an interactive table.\"\n",
              "              style=\"display:none;\">\n",
              "        \n",
              "  <svg xmlns=\"http://www.w3.org/2000/svg\" height=\"24px\"viewBox=\"0 0 24 24\"\n",
              "       width=\"24px\">\n",
              "    <path d=\"M0 0h24v24H0V0z\" fill=\"none\"/>\n",
              "    <path d=\"M18.56 5.44l.94 2.06.94-2.06 2.06-.94-2.06-.94-.94-2.06-.94 2.06-2.06.94zm-11 1L8.5 8.5l.94-2.06 2.06-.94-2.06-.94L8.5 2.5l-.94 2.06-2.06.94zm10 10l.94 2.06.94-2.06 2.06-.94-2.06-.94-.94-2.06-.94 2.06-2.06.94z\"/><path d=\"M17.41 7.96l-1.37-1.37c-.4-.4-.92-.59-1.43-.59-.52 0-1.04.2-1.43.59L10.3 9.45l-7.72 7.72c-.78.78-.78 2.05 0 2.83L4 21.41c.39.39.9.59 1.41.59.51 0 1.02-.2 1.41-.59l7.78-7.78 2.81-2.81c.8-.78.8-2.07 0-2.86zM5.41 20L4 18.59l7.72-7.72 1.47 1.35L5.41 20z\"/>\n",
              "  </svg>\n",
              "      </button>\n",
              "      \n",
              "  <style>\n",
              "    .colab-df-container {\n",
              "      display:flex;\n",
              "      flex-wrap:wrap;\n",
              "      gap: 12px;\n",
              "    }\n",
              "\n",
              "    .colab-df-convert {\n",
              "      background-color: #E8F0FE;\n",
              "      border: none;\n",
              "      border-radius: 50%;\n",
              "      cursor: pointer;\n",
              "      display: none;\n",
              "      fill: #1967D2;\n",
              "      height: 32px;\n",
              "      padding: 0 0 0 0;\n",
              "      width: 32px;\n",
              "    }\n",
              "\n",
              "    .colab-df-convert:hover {\n",
              "      background-color: #E2EBFA;\n",
              "      box-shadow: 0px 1px 2px rgba(60, 64, 67, 0.3), 0px 1px 3px 1px rgba(60, 64, 67, 0.15);\n",
              "      fill: #174EA6;\n",
              "    }\n",
              "\n",
              "    [theme=dark] .colab-df-convert {\n",
              "      background-color: #3B4455;\n",
              "      fill: #D2E3FC;\n",
              "    }\n",
              "\n",
              "    [theme=dark] .colab-df-convert:hover {\n",
              "      background-color: #434B5C;\n",
              "      box-shadow: 0px 1px 3px 1px rgba(0, 0, 0, 0.15);\n",
              "      filter: drop-shadow(0px 1px 2px rgba(0, 0, 0, 0.3));\n",
              "      fill: #FFFFFF;\n",
              "    }\n",
              "  </style>\n",
              "\n",
              "      <script>\n",
              "        const buttonEl =\n",
              "          document.querySelector('#df-d302df47-a433-4dbe-adb3-511598c74aad button.colab-df-convert');\n",
              "        buttonEl.style.display =\n",
              "          google.colab.kernel.accessAllowed ? 'block' : 'none';\n",
              "\n",
              "        async function convertToInteractive(key) {\n",
              "          const element = document.querySelector('#df-d302df47-a433-4dbe-adb3-511598c74aad');\n",
              "          const dataTable =\n",
              "            await google.colab.kernel.invokeFunction('convertToInteractive',\n",
              "                                                     [key], {});\n",
              "          if (!dataTable) return;\n",
              "\n",
              "          const docLinkHtml = 'Like what you see? Visit the ' +\n",
              "            '<a target=\"_blank\" href=https://colab.research.google.com/notebooks/data_table.ipynb>data table notebook</a>'\n",
              "            + ' to learn more about interactive tables.';\n",
              "          element.innerHTML = '';\n",
              "          dataTable['output_type'] = 'display_data';\n",
              "          await google.colab.output.renderOutput(dataTable, element);\n",
              "          const docLink = document.createElement('div');\n",
              "          docLink.innerHTML = docLinkHtml;\n",
              "          element.appendChild(docLink);\n",
              "        }\n",
              "      </script>\n",
              "    </div>\n",
              "  </div>\n",
              "  "
            ]
          },
          "metadata": {},
          "execution_count": 62
        }
      ]
    },
    {
      "cell_type": "code",
      "source": [
        "%matplotlib inline\n",
        "import pandas as pd\n",
        "import seaborn as sns\n",
        "import matplotlib.pyplot as plt\n",
        "\n",
        "import numpy as np\n",
        "features = ['size_cell_un','shape_cell_un','marg_adhesion','size_cell_single', 'bare_nucl', 'bl_chrmatn','nrml_nucleo', 'mitoses']\n",
        "#draw a heatmap between mean features and class\n",
        "plt.figure(figsize=(15,15))\n",
        "heat = sns.heatmap(datas[features].corr(), vmax=1, square=True, annot=True)"
      ],
      "metadata": {
        "colab": {
          "base_uri": "https://localhost:8080/",
          "height": 850
        },
        "id": "Ke1dOwyoo9Ga",
        "outputId": "80efa303-df71-458a-cf21-481b97efec58"
      },
      "execution_count": 70,
      "outputs": [
        {
          "output_type": "display_data",
          "data": {
            "text/plain": [
              "<Figure size 1080x1080 with 2 Axes>"
            ],
            "image/png": "[encoded data removed]"
          },
          "metadata": {
            "needs_background": "light"
          }
        }
      ]
    },
    {
      "cell_type": "code",
      "execution_count": 72,
      "metadata": {
        "colab": {
          "base_uri": "https://localhost:8080/",
          "height": 354
        },
        "id": "KmSYZYCaj1_X",
        "outputId": "dd71cdef-faa1-4ab3-977a-e2841304098c"
      },
      "outputs": [
        {
          "output_type": "execute_result",
          "data": {
            "text/plain": [
              "Text(0.5, 1.0, 'PCA Scatter Plot')"
            ]
          },
          "metadata": {},
          "execution_count": 72
        },
        {
          "output_type": "display_data",
          "data": {
            "text/plain": [
              "<Figure size 648x360 with 2 Axes>"
            ],
            "image/png": "[encoded data removed]"
          },
          "metadata": {
            "needs_background": "light"
          }
        }
      ],
      "source": [
        "data_drop = datas.drop('class',axis=1)\n",
        "data_drop = data_drop[features]\n",
        "# Principal component analysis and it's Scatter Plot\n",
        "from sklearn.decomposition import PCA \n",
        "X = data_drop.values\n",
        "pca = PCA(n_components=2) #Binary Classifier\n",
        "pca = pca.fit_transform(X)\n",
        "plt.figure(figsize = (9,5))\n",
        "plt.scatter(pca[:,0],pca[:,1], c = datas['class'], cmap = \"RdBu_r\", edgecolor = \"Red\", alpha=0.35)\n",
        "plt.colorbar()\n",
        "plt.title('PCA Scatter Plot')"
      ]
    },
    {
      "cell_type": "code",
      "source": [
        "# Principal component analysis and it's Scatter Plot\n",
        "from sklearn.manifold import TSNE\n",
        "tsne = TSNE(verbose=1, perplexity=40, n_iter= 4000)\n",
        "tsne = tsne.fit_transform(X)\n",
        "plt.scatter(tsne[:,0],tsne[:,1],  c = datas['class'], cmap = \"winter\", edgecolor = \"None\", alpha=0.35)\n",
        "plt.title('t-SNE Scatter Plot')"
      ],
      "metadata": {
        "colab": {
          "base_uri": "https://localhost:8080/",
          "height": 500
        },
        "id": "E97IPqFk0Kx9",
        "outputId": "c48200b1-62a5-4f00-efca-81b02a2e1bf6"
      },
      "execution_count": 74,
      "outputs": [
        {
          "output_type": "stream",
          "name": "stderr",
          "text": [
            "/usr/local/lib/python3.8/dist-packages/sklearn/manifold/_t_sne.py:780: FutureWarning: The default initialization in TSNE will change from 'random' to 'pca' in 1.2.\n",
            "  warnings.warn(\n",
            "/usr/local/lib/python3.8/dist-packages/sklearn/manifold/_t_sne.py:790: FutureWarning: The default learning rate in TSNE will change from 200.0 to 'auto' in 1.2.\n",
            "  warnings.warn(\n"
          ]
        },
        {
          "output_type": "stream",
          "name": "stdout",
          "text": [
            "[t-SNE] Computing 121 nearest neighbors...\n",
            "[t-SNE] Indexed 699 samples in 0.001s...\n",
            "[t-SNE] Computed neighbors for 699 samples in 0.029s...\n",
            "[t-SNE] Computed conditional probabilities for sample 699 / 699\n",
            "[t-SNE] Mean sigma: 0.000000\n",
            "[t-SNE] KL divergence after 250 iterations with early exaggeration: 55.495483\n",
            "[t-SNE] KL divergence after 2050 iterations: 0.555013\n"
          ]
        },
        {
          "output_type": "execute_result",
          "data": {
            "text/plain": [
              "Text(0.5, 1.0, 't-SNE Scatter Plot')"
            ]
          },
          "metadata": {},
          "execution_count": 74
        },
        {
          "output_type": "display_data",
          "data": {
            "text/plain": [
              "<Figure size 432x288 with 1 Axes>"
            ],
            "image/png": "[encoded data removed]"
          },
          "metadata": {
            "needs_background": "light"
          }
        }
      ]
    }
  ],
  "metadata": {
    "colab": {
      "provenance": []
    },
    "kernelspec": {
      "display_name": "Python 3",
      "name": "python3"
    },
    "language_info": {
      "name": "python"
    }
  },
  "nbformat": 4,
  "nbformat_minor": 0
}